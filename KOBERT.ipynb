{
 "cells": [
  {
   "cell_type": "code",
   "execution_count": 39,
   "id": "e9faf7b0-c407-4e0f-994d-ac3fe8206152",
   "metadata": {},
   "outputs": [],
   "source": [
    "import pandas as pd\n",
    "import numpy as np\n",
    "import matplotlib.pyplot as plt\n",
    "import urllib.request\n",
    "from collections import Counter\n",
    "from sklearn.model_selection import train_test_split\n",
    "from tensorflow.keras.preprocessing.text import Tokenizer\n",
    "from tensorflow.keras.preprocessing.sequence import pad_sequences\n",
    "import tensorflow as tf\n",
    "from tensorflow.keras.models import Sequential, load_model\n",
    "from tensorflow.keras.layers import Dense\n",
    "from tensorflow.keras.layers import LSTM, GRU, Dense, Embedding\n",
    "from tensorflow.keras.layers import Dropout\n",
    "from sklearn.model_selection import train_test_split\n",
    "from sklearn.preprocessing import MinMaxScaler\n",
    "import os\n",
    "from sklearn.metrics import r2_score\n",
    "from sklearn.metrics import mean_absolute_error\n",
    "from PyKomoran import *\n",
    "from tensorflow.keras.preprocessing.text import Tokenizer\n",
    "import os\n",
    "import pickle\n",
    "from tensorflow.keras.preprocessing.sequence import pad_sequences\n",
    "from sklearn.preprocessing import LabelEncoder\n",
    "from tensorflow.keras.optimizers import Adam\n",
    "import tensorflow_text\n",
    "from tensorflow.keras.utils import to_categorical\n",
    "from tensorflow.keras.callbacks import EarlyStopping, ModelCheckpoint\n",
    "import warnings"
   ]
  },
  {
   "cell_type": "code",
   "execution_count": 2,
   "id": "f8861b2a-9701-4d7c-9b38-24cdf7ba9060",
   "metadata": {},
   "outputs": [],
   "source": [
    "import tensorflow_hub as hub\n",
    "import tensorflow_datasets as tfds\n",
    "tfds.disable_progress_bar()"
   ]
  },
  {
   "cell_type": "code",
   "execution_count": 3,
   "id": "e8387328-7a82-49f1-b5b3-9730f1368016",
   "metadata": {},
   "outputs": [
    {
     "name": "stderr",
     "output_type": "stream",
     "text": [
      "2022-11-06 04:56:55.939840: I tensorflow/core/platform/cpu_feature_guard.cc:193] This TensorFlow binary is optimized with oneAPI Deep Neural Network Library (oneDNN) to use the following CPU instructions in performance-critical operations:  AVX2 FMA\n",
      "To enable them in other operations, rebuild TensorFlow with the appropriate compiler flags.\n",
      "2022-11-06 04:56:56.747755: I tensorflow/core/common_runtime/gpu/gpu_device.cc:1532] Created device /job:localhost/replica:0/task:0/device:GPU:0 with 513 MB memory:  -> device: 0, name: NVIDIA GeForce RTX 3090, pci bus id: 0000:02:00.0, compute capability: 8.6\n"
     ]
    }
   ],
   "source": [
    "#text_input = tf.keras.layers.Input(shape=(), dtype=tf.string)\n",
    "preprocessor = hub.KerasLayer(\"https://tfhub.dev/jeongukjae/distilkobert_cased_preprocess/1\")\n",
    "#encoder_inputs = preprocessor(text_input)"
   ]
  },
  {
   "cell_type": "code",
   "execution_count": 4,
   "id": "c040b816-691f-4fc5-8ca4-454887ac167d",
   "metadata": {},
   "outputs": [],
   "source": [
    "def build_classifier_model():\n",
    "    \n",
    "    input_text = tf.keras.layers.Input(shape=(), dtype=tf.string, name='input_text')\n",
    "    \n",
    "    preprocessing_layer = hub.KerasLayer(\"https://tfhub.dev/jeongukjae/distilkobert_cased_preprocess/1\")\n",
    "    \n",
    "    processing_input = preprocessing_layer(input_text)\n",
    "    \n",
    "    encoder = hub.KerasLayer(\"https://tfhub.dev/jeongukjae/distilkobert_cased_L-3_H-768_A-12/1\", trainable=True)\n",
    "    \n",
    "    encoded = encoder(processing_input)\n",
    "    \n",
    "    net = encoded['pooled_output']\n",
    "    \n",
    "    x = Dropout(0.1)(net)\n",
    "    x = Dense(256, activation=\"relu\", name='Dense1')(x)\n",
    "    x = Dense(128, activation=\"relu\", name='Dense2')(x)\n",
    "    x = Dense(46, activation=\"softmax\", name='classifier')(x)\n",
    "    output = x\n",
    "    \n",
    "    return tf.keras.Model(input_text, output)"
   ]
  },
  {
   "cell_type": "code",
   "execution_count": 5,
   "id": "788019e0-2795-4a3b-83bf-4b0d9b34e27a",
   "metadata": {},
   "outputs": [
    {
     "name": "stdout",
     "output_type": "stream",
     "text": [
      "<class 'pandas.core.frame.DataFrame'>\n",
      "RangeIndex: 174304 entries, 0 to 174303\n",
      "Data columns (total 13 columns):\n",
      " #   Column     Non-Null Count   Dtype \n",
      "---  ------     --------------   ----- \n",
      " 0   index      174304 non-null  int64 \n",
      " 1   제출년도       174304 non-null  int64 \n",
      " 2   사업명        174304 non-null  object\n",
      " 3   사업_부처명     174304 non-null  object\n",
      " 4   계속과제여부     174304 non-null  object\n",
      " 5   내역사업명      174304 non-null  object\n",
      " 6   과제명        174304 non-null  object\n",
      " 7   요약문_연구목표   174304 non-null  object\n",
      " 8   요약문_연구내용   174304 non-null  object\n",
      " 9   요약문_기대효과   174304 non-null  object\n",
      " 10  요약문_한글키워드  174304 non-null  object\n",
      " 11  요약문_영문키워드  174304 non-null  object\n",
      " 12  label      174304 non-null  int64 \n",
      "dtypes: int64(3), object(10)\n",
      "memory usage: 17.3+ MB\n"
     ]
    }
   ],
   "source": [
    "df_train = pd.read_csv(\"./train.csv\").fillna(\"NAN\")\n",
    "df_train.info()"
   ]
  },
  {
   "cell_type": "code",
   "execution_count": 6,
   "id": "2ebc0cca-0f53-412a-83df-0512a6a65888",
   "metadata": {},
   "outputs": [],
   "source": [
    "df_test = pd.read_csv(\"./test.csv\").fillna(\"NAN\")"
   ]
  },
  {
   "cell_type": "code",
   "execution_count": 7,
   "id": "e4bfda18-5789-4a07-ac20-183fbb291d71",
   "metadata": {},
   "outputs": [],
   "source": [
    "x_train = df_train[\"사업명\"] + \" \" + df_train[\"과제명\"] + \" \" + df_train[\"요약문_연구목표\"] + \" \" + df_train[\"요약문_연구내용\"] + \" \" + df_train[\"요약문_기대효과\"] + df_train[\"요약문_한글키워드\"]\n",
    "y_train = df_train[\"label\"].values"
   ]
  },
  {
   "cell_type": "code",
   "execution_count": 8,
   "id": "1922a4cf-edb3-4d51-b06c-08388e4a2e93",
   "metadata": {},
   "outputs": [
    {
     "data": {
      "text/plain": [
       "(174304, 46)"
      ]
     },
     "execution_count": 8,
     "metadata": {},
     "output_type": "execute_result"
    }
   ],
   "source": [
    "y_train = to_categorical(y_train)\n",
    "y_train.shape"
   ]
  },
  {
   "cell_type": "code",
   "execution_count": 9,
   "id": "f547fe33-897d-4c5b-a426-15caa0a36f8c",
   "metadata": {},
   "outputs": [],
   "source": [
    "values = df_train[\"label\"].value_counts()"
   ]
  },
  {
   "cell_type": "code",
   "execution_count": 10,
   "id": "5420f38a-51f8-4da6-b4ad-fdd459cb1ddc",
   "metadata": {
    "collapsed": true,
    "jupyter": {
     "outputs_hidden": true
    },
    "tags": []
   },
   "outputs": [
    {
     "name": "stdout",
     "output_type": "stream",
     "text": [
      "0: 142571개\n",
      "1: 1261개\n",
      "2: 275개\n",
      "3: 143개\n",
      "4: 57개\n",
      "5: 1698개\n",
      "6: 78개\n",
      "7: 113개\n",
      "8: 339개\n",
      "9: 106개\n",
      "10: 658개\n",
      "11: 200개\n",
      "12: 268개\n",
      "13: 575개\n",
      "14: 1672개\n",
      "15: 165개\n",
      "16: 506개\n",
      "17: 154개\n",
      "18: 1550개\n",
      "19: 4938개\n",
      "20: 1059개\n",
      "21: 496개\n",
      "22: 148개\n",
      "23: 1840개\n",
      "24: 3520개\n",
      "25: 810개\n",
      "26: 316개\n",
      "27: 620개\n",
      "28: 449개\n",
      "29: 1028개\n",
      "30: 234개\n",
      "31: 922개\n",
      "32: 260개\n",
      "33: 533개\n",
      "34: 523개\n",
      "35: 291개\n",
      "36: 1060개\n",
      "37: 266개\n",
      "38: 262개\n",
      "39: 202개\n",
      "40: 441개\n",
      "41: 67개\n",
      "42: 51개\n",
      "43: 351개\n",
      "44: 91개\n",
      "45: 1137개\n"
     ]
    }
   ],
   "source": [
    "for i in range(46):\n",
    "    print(f'{i}: {values[i]}개')"
   ]
  },
  {
   "cell_type": "code",
   "execution_count": 23,
   "id": "1fe675d7-5c5c-4d38-8838-6acf40641402",
   "metadata": {},
   "outputs": [
    {
     "name": "stdout",
     "output_type": "stream",
     "text": [
      "NanumGothic\n"
     ]
    }
   ],
   "source": [
    "from matplotlib import font_manager, rc\n",
    "path = './NanumGothic.ttf'\n",
    "font_name = font_manager.FontProperties(fname=path).get_name()\n",
    "\n",
    "rc('font', family=font_name)\n",
    "print(font_name)\n",
    "\n",
    "fontprop = font_manager.FontProperties(fname=path, size=12)"
   ]
  },
  {
   "cell_type": "code",
   "execution_count": 44,
   "id": "a9c597ca-3215-406e-9167-bb5e00560a81",
   "metadata": {},
   "outputs": [],
   "source": [
    "plt.rcParams[\"font.family\"] = \"NanumGothic\""
   ]
  },
  {
   "cell_type": "code",
   "execution_count": 42,
   "id": "5da35397-aa02-49bc-a91f-35ce4f49c50c",
   "metadata": {},
   "outputs": [],
   "source": [
    "plt.rc('font', family='NanumGothic') # 폰트 설정\n",
    "plt.rc('axes', unicode_minus=False) # 마이너스 폰트 설정\n",
    "%config InlineBackend.figure_format='retina' # 그래프 글씨 뚜렷\n",
    "%matplotlib inline  \n",
    "warnings.filterwarnings('ignore')"
   ]
  },
  {
   "cell_type": "code",
   "execution_count": 45,
   "id": "bc231887-8eb6-4458-a541-f09642f78c84",
   "metadata": {
    "tags": []
   },
   "outputs": [
    {
     "data": {
      "text/plain": [
       "<AxesSubplot:title={'center':'test 사업_부처별'}>"
      ]
     },
     "execution_count": 45,
     "metadata": {},
     "output_type": "execute_result"
    },
    {
     "data": {
      "image/png": "[encoded data removed]",
      "text/plain": [
       "<Figure size 720x1296 with 2 Axes>"
      ]
     },
     "metadata": {
      "image/png": {
       "height": 1060,
       "width": 611
      },
      "needs_background": "light"
     },
     "output_type": "display_data"
    }
   ],
   "source": [
    "# 사업_부처별 분포 분석\n",
    "fig, axs = plt.subplots(2,1,figsize=(10,18))\n",
    "df_train.사업_부처명.value_counts()[:10].plot.bar(rot=45, ax = axs[0], title = \"train 사업_부처별\")\n",
    "df_test.사업_부처명.value_counts()[:10].plot.bar(rot=45, ax = axs[1], title = \"test 사업_부처별\")"
   ]
  },
  {
   "cell_type": "code",
   "execution_count": 34,
   "id": "7ef10bda-1d01-4f27-b363-8ef525632bf9",
   "metadata": {},
   "outputs": [],
   "source": [
    "target_columns = ['과제명','요약문_한글키워드']\n",
    "\n",
    "train_texts = df_train[target_columns]\n",
    "test_texts = df_test[target_columns]\n",
    "\n",
    "def visualize_train_length(train, target_columns) :\n",
    "    plt.figure(figsize = (12,8)) \n",
    "    for i, column in enumerate(target_columns):\n",
    "        text_len = [len(s.split()) for s in train[column]]\n",
    "\n",
    "        display('='*50)\n",
    "        display(f'{column} 최소 길이 : {np.min(text_len)}')\n",
    "        display(f'{column} 25% 길이 : {np.quantile(text_len,0.25)}')\n",
    "        display(f'{column} 최대 길이 : {np.max(text_len)}')\n",
    "        display(f'{column} 75% 길이 : {np.quantile(text_len,0.75)}')\n",
    "        display(f'{column} 평균 길이 : {np.mean(text_len)}')\n",
    "\n",
    "        plt.subplot(2,3,i+1)\n",
    "        plt.boxplot(text_len)\n",
    "        plt.title(column, fontproperties=fontprop)\n",
    "\n",
    "\n",
    "        plt.title(column)\n",
    "\n",
    "        plt.subplot(2,3,i+4)\n",
    "        plt.hist(text_len, bins=100)\n",
    "        plt.xlabel('샘플의 길이', fontproperties=fontprop)\n",
    "        plt.ylabel('샘플의 수', fontproperties=fontprop)\n",
    "\n",
    "    plt.show()\n"
   ]
  },
  {
   "cell_type": "code",
   "execution_count": 35,
   "id": "63ce3973-2b18-4433-ba7e-eae4d9c640d5",
   "metadata": {},
   "outputs": [
    {
     "data": {
      "text/plain": [
       "'=================================================='"
      ]
     },
     "metadata": {},
     "output_type": "display_data"
    },
    {
     "data": {
      "text/plain": [
       "'과제명 최소 길이 : 1'"
      ]
     },
     "metadata": {},
     "output_type": "display_data"
    },
    {
     "data": {
      "text/plain": [
       "'과제명 25% 길이 : 6.0'"
      ]
     },
     "metadata": {},
     "output_type": "display_data"
    },
    {
     "data": {
      "text/plain": [
       "'과제명 최대 길이 : 41'"
      ]
     },
     "metadata": {},
     "output_type": "display_data"
    },
    {
     "data": {
      "text/plain": [
       "'과제명 75% 길이 : 10.0'"
      ]
     },
     "metadata": {},
     "output_type": "display_data"
    },
    {
     "data": {
      "text/plain": [
       "'과제명 평균 길이 : 8.436960712318708'"
      ]
     },
     "metadata": {},
     "output_type": "display_data"
    },
    {
     "data": {
      "text/plain": [
       "'=================================================='"
      ]
     },
     "metadata": {},
     "output_type": "display_data"
    },
    {
     "data": {
      "text/plain": [
       "'요약문_한글키워드 최소 길이 : 1'"
      ]
     },
     "metadata": {},
     "output_type": "display_data"
    },
    {
     "data": {
      "text/plain": [
       "'요약문_한글키워드 25% 길이 : 1.0'"
      ]
     },
     "metadata": {},
     "output_type": "display_data"
    },
    {
     "data": {
      "text/plain": [
       "'요약문_한글키워드 최대 길이 : 55'"
      ]
     },
     "metadata": {},
     "output_type": "display_data"
    },
    {
     "data": {
      "text/plain": [
       "'요약문_한글키워드 75% 길이 : 6.0'"
      ]
     },
     "metadata": {},
     "output_type": "display_data"
    },
    {
     "data": {
      "text/plain": [
       "'요약문_한글키워드 평균 길이 : 4.152922480264365'"
      ]
     },
     "metadata": {},
     "output_type": "display_data"
    },
    {
     "data": {
      "image/png": "[encoded data removed]",
      "text/plain": [
       "<Figure size 864x576 with 4 Axes>"
      ]
     },
     "metadata": {
      "needs_background": "light"
     },
     "output_type": "display_data"
    }
   ],
   "source": [
    "visualize_train_length(train_texts, target_columns)"
   ]
  },
  {
   "cell_type": "markdown",
   "id": "8882b9a9-57b2-490e-837e-ff1214dcb8c8",
   "metadata": {
    "tags": []
   },
   "source": [
    "# 데이터 학습"
   ]
  },
  {
   "cell_type": "code",
   "execution_count": 15,
   "id": "2ca8dd1a-123f-4b71-93aa-43bea8302bd5",
   "metadata": {},
   "outputs": [],
   "source": [
    "# overfitting을 막기 위한 ealrystop 추가\n",
    "earlystop_callback = EarlyStopping(monitor='val_accuracy', min_delta=0.0001,patience=3)"
   ]
  },
  {
   "cell_type": "code",
   "execution_count": 16,
   "id": "572710e9-97c9-4d4c-8371-47accd3db9bd",
   "metadata": {},
   "outputs": [],
   "source": [
    "# min_delta: the threshold that triggers the termination (acc should at least improve 0.0001)\n",
    "# patience: no improvment epochs (patience = 1, 1번 이상 상승이 없으면 종료)\\\n",
    "model_name = \"Kobert_classifier\"\n",
    "checkpoint_path = os.path.join(model_name, 'weights.h5')\n",
    "checkpoint_dir = os.path.dirname(checkpoint_path)"
   ]
  },
  {
   "cell_type": "code",
   "execution_count": 17,
   "id": "563d65a7-4d14-47b2-b328-24293e7960b2",
   "metadata": {},
   "outputs": [
    {
     "name": "stdout",
     "output_type": "stream",
     "text": [
      "Kobert_classifier -- Folder already exists \n",
      "\n"
     ]
    }
   ],
   "source": [
    "# Create path if exists\n",
    "if os.path.exists(checkpoint_dir):\n",
    "    print(\"{} -- Folder already exists \\n\".format(checkpoint_dir))\n",
    "else:\n",
    "    os.makedirs(checkpoint_dir, exist_ok=True)\n",
    "    print(\"{} -- Folder create complete \\n\".format(checkpoint_dir))\n",
    "    \n",
    "cp_callback = ModelCheckpoint(\n",
    "    checkpoint_path, monitor='val_accuracy', verbose=1, save_best_only=True, save_weights_only=True)"
   ]
  },
  {
   "cell_type": "code",
   "execution_count": 19,
   "id": "80aaf921-f8d0-489b-aa6c-b294b53fab18",
   "metadata": {},
   "outputs": [],
   "source": [
    "KoBERT = build_classifier_model()\n",
    "KoBERT.compile(optimizer=Adam(lr=1e-4),loss=\"categorical_crossentropy\",metrics=[\"accuracy\"])"
   ]
  },
  {
   "cell_type": "code",
   "execution_count": 20,
   "id": "0e5307cd-3fd4-4195-80ff-c60c95e11b28",
   "metadata": {
    "tags": []
   },
   "outputs": [
    {
     "name": "stdout",
     "output_type": "stream",
     "text": [
      "Epoch 1/100\n",
      "   2/4358 [..............................] - ETA: 8:17 - loss: 3.7687 - accuracy: 0.0312       "
     ]
    },
    {
     "name": "stderr",
     "output_type": "stream",
     "text": [
      "2022-11-02 07:07:27.012955: I tensorflow/stream_executor/cuda/cuda_blas.cc:1786] TensorFloat-32 will be used for the matrix multiplication. This will only be logged once.\n"
     ]
    },
    {
     "name": "stdout",
     "output_type": "stream",
     "text": [
      "4358/4358 [==============================] - ETA: 0s - loss: 0.5286 - accuracy: 0.8633\n",
      "Epoch 1: val_accuracy improved from -inf to 0.87754, saving model to Kobert_classifier/weights.h5\n",
      "4358/4358 [==============================] - 610s 138ms/step - loss: 0.5286 - accuracy: 0.8633 - val_loss: 0.3991 - val_accuracy: 0.8775\n",
      "Epoch 2/100\n",
      "4358/4358 [==============================] - ETA: 0s - loss: 0.3433 - accuracy: 0.8949\n",
      "Epoch 2: val_accuracy improved from 0.87754 to 0.88859, saving model to Kobert_classifier/weights.h5\n",
      "4358/4358 [==============================] - 601s 138ms/step - loss: 0.3433 - accuracy: 0.8949 - val_loss: 0.3570 - val_accuracy: 0.8886\n",
      "Epoch 3/100\n",
      "4358/4358 [==============================] - ETA: 0s - loss: 0.2782 - accuracy: 0.9118\n",
      "Epoch 3: val_accuracy did not improve from 0.88859\n",
      "4358/4358 [==============================] - 602s 138ms/step - loss: 0.2782 - accuracy: 0.9118 - val_loss: 0.3589 - val_accuracy: 0.8857\n",
      "Epoch 4/100\n",
      "4358/4358 [==============================] - ETA: 0s - loss: 0.2288 - accuracy: 0.9267\n",
      "Epoch 4: val_accuracy improved from 0.88859 to 0.89946, saving model to Kobert_classifier/weights.h5\n",
      "4358/4358 [==============================] - 603s 138ms/step - loss: 0.2288 - accuracy: 0.9267 - val_loss: 0.3247 - val_accuracy: 0.8995\n",
      "Epoch 5/100\n",
      "4358/4358 [==============================] - ETA: 0s - loss: 0.1906 - accuracy: 0.9379\n",
      "Epoch 5: val_accuracy improved from 0.89946 to 0.90370, saving model to Kobert_classifier/weights.h5\n",
      "4358/4358 [==============================] - 604s 139ms/step - loss: 0.1906 - accuracy: 0.9379 - val_loss: 0.3271 - val_accuracy: 0.9037\n",
      "Epoch 6/100\n",
      "4358/4358 [==============================] - ETA: 0s - loss: 0.1567 - accuracy: 0.9484\n",
      "Epoch 6: val_accuracy improved from 0.90370 to 0.91059, saving model to Kobert_classifier/weights.h5\n",
      "4358/4358 [==============================] - 605s 139ms/step - loss: 0.1567 - accuracy: 0.9484 - val_loss: 0.3283 - val_accuracy: 0.9106\n",
      "Epoch 7/100\n",
      "4358/4358 [==============================] - ETA: 0s - loss: 0.1343 - accuracy: 0.9559\n",
      "Epoch 7: val_accuracy improved from 0.91059 to 0.91569, saving model to Kobert_classifier/weights.h5\n",
      "4358/4358 [==============================] - 605s 139ms/step - loss: 0.1343 - accuracy: 0.9559 - val_loss: 0.3508 - val_accuracy: 0.9157\n",
      "Epoch 8/100\n",
      "4358/4358 [==============================] - ETA: 0s - loss: 0.1143 - accuracy: 0.9622\n",
      "Epoch 8: val_accuracy did not improve from 0.91569\n",
      "4358/4358 [==============================] - 606s 139ms/step - loss: 0.1143 - accuracy: 0.9622 - val_loss: 0.3445 - val_accuracy: 0.9135\n",
      "Epoch 9/100\n",
      "4358/4358 [==============================] - ETA: 0s - loss: 0.0997 - accuracy: 0.9673\n",
      "Epoch 9: val_accuracy did not improve from 0.91569\n",
      "4358/4358 [==============================] - 604s 139ms/step - loss: 0.0997 - accuracy: 0.9673 - val_loss: 0.3899 - val_accuracy: 0.9066\n",
      "Epoch 10/100\n",
      "4358/4358 [==============================] - ETA: 0s - loss: 0.0861 - accuracy: 0.9716\n",
      "Epoch 10: val_accuracy did not improve from 0.91569\n",
      "4358/4358 [==============================] - 605s 139ms/step - loss: 0.0861 - accuracy: 0.9716 - val_loss: 0.3837 - val_accuracy: 0.9122\n"
     ]
    }
   ],
   "source": [
    "history = KoBERT.fit(x_train,y_train,validation_split = 0.2,epochs=100, batch_size=32,  callbacks=[earlystop_callback, cp_callback])"
   ]
  },
  {
   "cell_type": "code",
   "execution_count": 21,
   "id": "17d0f52f-5f60-4540-a84c-288a305d3c70",
   "metadata": {
    "collapsed": true,
    "jupyter": {
     "outputs_hidden": true
    },
    "tags": []
   },
   "outputs": [
    {
     "data": {
      "image/png": "[encoded data removed]",
      "text/plain": [
       "<Figure size 432x288 with 1 Axes>"
      ]
     },
     "metadata": {
      "needs_background": "light"
     },
     "output_type": "display_data"
    }
   ],
   "source": [
    "plt.plot(history.history['accuracy'])\n",
    "plt.plot(history.history['val_accuracy'])\n",
    "plt.title('Model accuracy')\n",
    "plt.xlabel('Epoch')\n",
    "plt.ylabel('Accuracy')\n",
    "plt.legend(['Train', 'Validation'], loc='upper left')\n",
    "plt.show()"
   ]
  },
  {
   "cell_type": "code",
   "execution_count": 22,
   "id": "2f34b758-8e1d-46a1-829f-989d6a0dd77e",
   "metadata": {
    "collapsed": true,
    "jupyter": {
     "outputs_hidden": true
    },
    "tags": []
   },
   "outputs": [
    {
     "data": {
      "image/png": "[encoded data removed]",
      "text/plain": [
       "<Figure size 432x288 with 1 Axes>"
      ]
     },
     "metadata": {
      "needs_background": "light"
     },
     "output_type": "display_data"
    }
   ],
   "source": [
    "plt.plot(history.history['loss'])\n",
    "plt.plot(history.history['val_loss'])\n",
    "plt.title('Model loss')\n",
    "plt.xlabel('Epoch')\n",
    "plt.ylabel('Loss')\n",
    "plt.legend(['Train', 'Validation'], loc='upper left')\n",
    "plt.show()"
   ]
  },
  {
   "cell_type": "code",
   "execution_count": 23,
   "id": "39c3a2ea-2973-457c-ad70-0f9d4edf5339",
   "metadata": {},
   "outputs": [],
   "source": [
    "x_test = df_test[\"사업명\"] + \" \" + df_test[\"과제명\"] + \" \" + df_test[\"요약문_연구목표\"] + \" \" + df_test[\"요약문_연구내용\"] + \" \" + df_test[\"요약문_기대효과\"] + \" \" + df_test[\"요약문_한글키워드\"]"
   ]
  },
  {
   "cell_type": "code",
   "execution_count": 24,
   "id": "1c7c328f-4861-4a3f-b973-d1b15a198a22",
   "metadata": {},
   "outputs": [
    {
     "name": "stdout",
     "output_type": "stream",
     "text": [
      "1362/1362 [==============================] - 114s 83ms/step\n"
     ]
    }
   ],
   "source": [
    "y_pred = KoBERT.predict(x_test)"
   ]
  },
  {
   "cell_type": "code",
   "execution_count": 25,
   "id": "c889af4b-5058-4828-abde-4efba3fdbe59",
   "metadata": {
    "tags": []
   },
   "outputs": [],
   "source": [
    "df_submission = pd.read_csv(\"./sample_submission.csv\")\n",
    "y_pred_recovery = np.argmax(y_pred, axis=1).reshape(-1,)"
   ]
  },
  {
   "cell_type": "code",
   "execution_count": 26,
   "id": "c17c9053-ba97-4f80-a2af-b4fb180576f1",
   "metadata": {},
   "outputs": [],
   "source": [
    "df_submission[\"label\"] = y_pred_recovery\n",
    "df_submission.to_csv(\"./Kobert_result_2.csv\", index=False)"
   ]
  },
  {
   "cell_type": "code",
   "execution_count": 27,
   "id": "814cb4a0-d0de-4633-a7ca-5e4ab815d4a8",
   "metadata": {
    "collapsed": true,
    "jupyter": {
     "outputs_hidden": true
    },
    "tags": []
   },
   "outputs": [
    {
     "name": "stdout",
     "output_type": "stream",
     "text": [
      "Model: \"model_2\"\n",
      "__________________________________________________________________________________________________\n",
      " Layer (type)                   Output Shape         Param #     Connected to                     \n",
      "==================================================================================================\n",
      " input_text (InputLayer)        [(None,)]            0           []                               \n",
      "                                                                                                  \n",
      " keras_layer_5 (KerasLayer)     {'input_mask': (Non  0           ['input_text[0][0]']             \n",
      "                                e, 128),                                                          \n",
      "                                 'input_word_ids':                                                \n",
      "                                (None, 128)}                                                      \n",
      "                                                                                                  \n",
      " keras_layer_6 (KerasLayer)     {'encoder_outputs':  27803904    ['keras_layer_5[0][0]',          \n",
      "                                 [(None, 128, 768),               'keras_layer_5[0][1]']          \n",
      "                                 (None, 128, 768),                                                \n",
      "                                 (None, 128, 768)],                                               \n",
      "                                 'pooled_output': (                                               \n",
      "                                None, 768),                                                       \n",
      "                                 'sequence_output':                                               \n",
      "                                 (None, 128, 768)}                                                \n",
      "                                                                                                  \n",
      " dropout_2 (Dropout)            (None, 768)          0           ['keras_layer_6[0][3]']          \n",
      "                                                                                                  \n",
      " Dense1 (Dense)                 (None, 256)          196864      ['dropout_2[0][0]']              \n",
      "                                                                                                  \n",
      " Dense2 (Dense)                 (None, 128)          32896       ['Dense1[0][0]']                 \n",
      "                                                                                                  \n",
      " classifier (Dense)             (None, 46)           5934        ['Dense2[0][0]']                 \n",
      "                                                                                                  \n",
      "==================================================================================================\n",
      "Total params: 28,039,598\n",
      "Trainable params: 28,039,598\n",
      "Non-trainable params: 0\n",
      "__________________________________________________________________________________________________\n"
     ]
    }
   ],
   "source": [
    "KoBERT.summary()"
   ]
  },
  {
   "cell_type": "code",
   "execution_count": null,
   "id": "33aab779-8a7a-4b9f-9d20-045476ea6892",
   "metadata": {},
   "outputs": [],
   "source": []
  }
 ],
 "metadata": {
  "kernelspec": {
   "display_name": "Python 3 (ipykernel)",
   "language": "python",
   "name": "python3"
  },
  "language_info": {
   "codemirror_mode": {
    "name": "ipython",
    "version": 3
   },
   "file_extension": ".py",
   "mimetype": "text/x-python",
   "name": "python",
   "nbconvert_exporter": "python",
   "pygments_lexer": "ipython3",
   "version": "3.8.10"
  }
 },
 "nbformat": 4,
 "nbformat_minor": 5
}
